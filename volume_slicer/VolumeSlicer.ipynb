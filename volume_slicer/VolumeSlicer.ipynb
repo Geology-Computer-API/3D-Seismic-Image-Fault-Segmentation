{
 "cells": [
  {
   "cell_type": "code",
   "execution_count": 1,
   "metadata": {},
   "outputs": [
    {
     "name": "stderr",
     "output_type": "stream",
     "text": [
      "//anaconda3/lib/python3.7/site-packages/IPython/html.py:14: ShimWarning: The `IPython.html` package has been deprecated since IPython 4.0. You should import from `notebook` instead. `IPython.html.widgets` has moved to `ipywidgets`.\n",
      "  \"`IPython.html.widgets` has moved to `ipywidgets`.\", ShimWarning)\n"
     ]
    }
   ],
   "source": [
    "import numpy as np\n",
    "import matplotlib.pyplot as plt\n",
    "from matplotlib.widgets import Slider\n",
    "from IPython.html.widgets import *\n",
    "from IPython.html.widgets import interact, interactive, fixed\n",
    "from IPython.html import widgets\n",
    "from IPython.display import display"
   ]
  },
  {
   "cell_type": "code",
   "execution_count": 2,
   "metadata": {},
   "outputs": [],
   "source": [
    "standardizer = lambda x: (x-np.min(x))/(np.max(x)-np.min(x))\n",
    "seis_vlm = np.load('./F3_small_seis.npy')\n",
    "seis_vlm = standardizer(seis_vlm)\n",
    "fltprob_vlm = np.load('./F3_small_pred.npy')"
   ]
  },
  {
   "cell_type": "code",
   "execution_count": 3,
   "metadata": {},
   "outputs": [
    {
     "data": {
      "application/vnd.jupyter.widget-view+json": {
       "model_id": "3afbecd779524473acfa2b229166a98f",
       "version_major": 2,
       "version_minor": 0
      },
      "text/plain": [
       "interactive(children=(IntSlider(value=64, description='x', max=127), IntSlider(value=64, description='y', max=…"
      ]
     },
     "metadata": {},
     "output_type": "display_data"
    },
    {
     "data": {
      "text/plain": [
       "<function __main__.wrapper_slice(x, y, z, slice_select)>"
      ]
     },
     "execution_count": 3,
     "metadata": {},
     "output_type": "execute_result"
    }
   ],
   "source": [
    "def CreateImgAlpha(img_input):\n",
    "    img_alpha = np.zeros([np.shape(img_input)[0], np.shape(img_input)[1], 4])\n",
    "    threshold = 0.9\n",
    "    img_input[img_input < threshold] = 0\n",
    "    # Yellow: (1,1,0), Red: (1,0,0)\n",
    "    img_alpha[:,:,0] = 1\n",
    "    img_alpha[:,:,1] = 0\n",
    "    img_alpha[:,:,2] = 0\n",
    "    img_alpha[...,-1] = img_input\n",
    "    return img_alpha\n",
    "\n",
    "def slice_to_show(idx, seis_vlm, fltprob_vlm, slice_select):\n",
    "    if   slice_select == 'x-slice':\n",
    "        r_slice = seis_vlm[idx,:,:]\n",
    "        l_slice = fltprob_vlm[idx,:,:]        \n",
    "    elif slice_select == 'y-slice':\n",
    "        r_slice = seis_vlm[:,idx,:]\n",
    "        l_slice = fltprob_vlm[:,idx,:]\n",
    "    else:\n",
    "        r_slice = seis_vlm[:,:,idx].T\n",
    "        l_slice = fltprob_vlm[:,:,idx].T\n",
    "    return r_slice, l_slice\n",
    "\n",
    "def plt_slice(val, slice_select, xlim, ylim):\n",
    "    r_slice, l_slice = slice_to_show(val[0], seis_vlm, fltprob_vlm, slice_select)\n",
    "    fig, ax = plt.subplots()\n",
    "    plt.imshow(r_slice.T, cmap = plt.cm.gray_r, vmin=0.1, vmax=0.9, aspect = 'equal')\n",
    "    plt.imshow(CreateImgAlpha(l_slice.T), alpha=0.5, aspect = 'equal')\n",
    "    plt.plot([val[1], val[1]],[0, ylim[1]], lw = 1, color = 'magenta')\n",
    "    plt.plot([0, xlim[1]],[val[2], val[2]], lw = 1, color = 'magenta')\n",
    "    ax.set_xlim(xlim)\n",
    "    ax.set_ylim(ylim)\n",
    "    ax.invert_yaxis()\n",
    "    if   slice_select == 'x-slice':\n",
    "        ax.set_xlabel('y')\n",
    "        ax.set_ylabel('z')\n",
    "    elif slice_select == 'y-slice':\n",
    "        ax.set_xlabel('x')\n",
    "        ax.set_ylabel('z')\n",
    "    else:\n",
    "        ax.set_xlabel('y')\n",
    "        ax.set_ylabel('x')\n",
    "    plt.title(slice_select)\n",
    "    scaler = 40\n",
    "    ax.figure.set_size_inches(xlim[1]/scaler, ylim[1]/scaler)\n",
    "    plt.show()\n",
    "    return\n",
    "    \n",
    "def wrapper_slice(x, y, z, slice_select):\n",
    "    if slice_select == 'x-slice':\n",
    "        val = (x, y, z)\n",
    "        xlim = [0, ny]\n",
    "        ylim = [0, nz]        \n",
    "    elif slice_select == 'y-slice':\n",
    "        val = (y, x, z)\n",
    "        xlim = [0, nx]\n",
    "        ylim = [0, nz]\n",
    "    else:\n",
    "        val = (z, y, x)\n",
    "        xlim = [0, ny]\n",
    "        ylim = [0, nx]\n",
    "    display(plt_slice(val, slice_select, xlim, ylim))\n",
    "        \n",
    "nx = seis_vlm.shape[0]\n",
    "ny = seis_vlm.shape[1]\n",
    "nz = seis_vlm.shape[2]\n",
    "interact(wrapper_slice, x = IntSlider(min=0, max=nx-1,step=1,value=int(nx/2)),\n",
    "                        y = IntSlider(min=0, max=ny-1,step=1,value=int(ny/2)),\n",
    "                        z = IntSlider(min=0, max=nz-1,step=1,value=int(nz/2)),\n",
    "                        slice_select = ['x-slice','y-slice','z-slice'])"
   ]
  }
 ],
 "metadata": {
  "kernelspec": {
   "display_name": "Python 3",
   "language": "python",
   "name": "python3"
  },
  "language_info": {
   "codemirror_mode": {
    "name": "ipython",
    "version": 3
   },
   "file_extension": ".py",
   "mimetype": "text/x-python",
   "name": "python",
   "nbconvert_exporter": "python",
   "pygments_lexer": "ipython3",
   "version": "3.7.3"
  }
 },
 "nbformat": 4,
 "nbformat_minor": 2
}
